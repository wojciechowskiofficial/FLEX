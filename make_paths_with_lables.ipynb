{
 "cells": [
  {
   "cell_type": "code",
   "execution_count": 1,
   "metadata": {},
   "outputs": [],
   "source": [
    "with open(\"ILSVRC2012_validation_ground_truth.txt\", \"r\") as f:\n",
    "    x = [l.strip() for l in f.readlines()]"
   ]
  },
  {
   "cell_type": "code",
   "execution_count": 2,
   "metadata": {},
   "outputs": [],
   "source": [
    "res = []\n",
    "true_lables = []\n",
    "classes = [687, 937, 685, 702, 524, 366, 365, 161, 712, 362]\n",
    "mapping = {687 : 625, 937: 690, 685: 699, \n",
    "           702: 744, 524: 893, 366: 976, \n",
    "           365: 974, 161: 162, 712: 563, \n",
    "           362: 981}\n",
    "for l in x:\n",
    "    if int(l) in classes:\n",
    "        res.append(\"ILSVRC2012_val_\" + l.zfill(8) + \".JPEG\")\n",
    "        true_lables.append(mapping[int(l)])"
   ]
  },
  {
   "cell_type": "code",
   "execution_count": 6,
   "metadata": {},
   "outputs": [],
   "source": [
    "with open(\"val_paths_experiments_0.txt\", \"w\") as f:\n",
    "    for i in range(len(res)):\n",
    "        f.write(res[i] + \",\" + str(true_lables[i]))\n",
    "        f.write(\"\\n\")"
   ]
  }
 ],
 "metadata": {
  "kernelspec": {
   "display_name": "male",
   "language": "python",
   "name": "python3"
  },
  "language_info": {
   "codemirror_mode": {
    "name": "ipython",
    "version": 3
   },
   "file_extension": ".py",
   "mimetype": "text/x-python",
   "name": "python",
   "nbconvert_exporter": "python",
   "pygments_lexer": "ipython3",
   "version": "3.8.10"
  },
  "orig_nbformat": 4
 },
 "nbformat": 4,
 "nbformat_minor": 2
}
