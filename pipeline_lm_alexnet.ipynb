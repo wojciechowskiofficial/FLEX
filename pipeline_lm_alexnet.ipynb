{
 "cells": [
  {
   "cell_type": "code",
   "execution_count": 1,
   "metadata": {},
   "outputs": [],
   "source": [
    "import torch\n",
    "from torchvision.models import alexnet\n",
    "from torchsummary import summary\n",
    "from utils import classify\n",
    "import numpy as np\n",
    "from matplotlib import pyplot as plt\n",
    "import os\n",
    "from male import get_important_neurons, get_positions, associate_channels\n",
    "import openai\n",
    "from json import loads"
   ]
  },
  {
   "cell_type": "code",
   "execution_count": 2,
   "metadata": {},
   "outputs": [],
   "source": [
    "%load_ext autoreload"
   ]
  },
  {
   "cell_type": "code",
   "execution_count": 3,
   "metadata": {},
   "outputs": [],
   "source": [
    "filename = 'czapi.jpg'"
   ]
  },
  {
   "cell_type": "code",
   "execution_count": 4,
   "metadata": {},
   "outputs": [],
   "source": [
    "model = alexnet(pretrained=True)\n",
    "_ = model.eval()\n",
    "# summary(model, (3, 224, 224))"
   ]
  },
  {
   "cell_type": "code",
   "execution_count": 5,
   "metadata": {},
   "outputs": [],
   "source": [
    "%autoreload 2\n",
    "probabilities, top_probabilities, categories, input_batch, input_tensor = classify(filename, model)"
   ]
  },
  {
   "cell_type": "code",
   "execution_count": 6,
   "metadata": {},
   "outputs": [],
   "source": [
    "image_center_resized = input_tensor.numpy()\n",
    "image_center_resized = np.transpose(image_center_resized, (1, 2, 0))\n",
    "if not os.path.exists(os.path.join('images', 'clipped', filename)):\n",
    "    plt.imsave(os.path.join('images', 'clipped', filename), image_center_resized)"
   ]
  },
  {
   "cell_type": "code",
   "execution_count": 7,
   "metadata": {},
   "outputs": [],
   "source": [
    "import pandas as pd\n",
    "import os\n",
    "descriptions = pd.read_csv(os.path.join('milan_results', 'alexnet_imagenet.csv'))\n",
    "#layer_names = ['conv1'] + ['layer' + str(i) for i in range(1, 5, 1)]\n",
    "layer_names = ['conv5']\n",
    "layer_map = {'conv1' : model.features[0], \n",
    "             'conv2' : model.features[3], \n",
    "             'conv3' : model.features[6], \n",
    "             'conv4' : model.features[8], \n",
    "             'conv5' : model.features[10]}"
   ]
  },
  {
   "cell_type": "code",
   "execution_count": 8,
   "metadata": {},
   "outputs": [
    {
     "name": "stderr",
     "output_type": "stream",
     "text": [
      "/home/adamwsl/.local/lib/python3.8/site-packages/captum/_utils/gradient.py:57: UserWarning: Input Tensor 0 did not already require gradients, required_grads has been set automatically.\n",
      "  warnings.warn(\n"
     ]
    }
   ],
   "source": [
    "per_layer_results, per_layer_activations = get_important_neurons(10, \n",
    "                                                                 input_batch, \n",
    "                                                                 model, \n",
    "                                                                 layer_names, \n",
    "                                                                 layer_map, \n",
    "                                                                 descriptions, \n",
    "                                                                 probabilities)"
   ]
  },
  {
   "cell_type": "code",
   "execution_count": 9,
   "metadata": {},
   "outputs": [],
   "source": [
    "per_layer_positions = get_positions(per_layer_results, per_layer_activations)"
   ]
  },
  {
   "cell_type": "code",
   "execution_count": 10,
   "metadata": {},
   "outputs": [
    {
     "name": "stdout",
     "output_type": "stream",
     "text": [
      "Great Dane, [{'description': 'Dogs and guinea pig', 'positions': [], 'id': 125}, {'description': 'Dog heads', 'positions': [], 'id': 30}, {'description': 'Animal legs', 'positions': [], 'id': 214}, {'description': 'Animal heads', 'positions': [], 'id': 87}, {'description': 'Rounded edges in pictures', 'positions': [], 'id': 209}, {'description': 'Dog heads', 'positions': ['right', 'bottom'], 'id': 66}, {'description': 'Animal heads', 'positions': ['top', 'center'], 'id': 235}, {'description': 'Animal heads', 'positions': ['left', 'top', 'bottom'], 'id': 254}, {'description': 'Dog heads', 'positions': ['right', 'top'], 'id': 230}, {'description': 'Dog ears', 'positions': ['right', 'top', 'bottom'], 'id': 61}]\n"
     ]
    }
   ],
   "source": [
    "prompt = str(categories[0]) + ', '\n",
    "tmp = []\n",
    "positions = per_layer_positions['conv5']\n",
    "results = per_layer_results['conv5']\n",
    "for k, v in positions.items():\n",
    "    tmp.append({'description' : results[k], 'positions' : [], 'id' : k})\n",
    "    if len(v) <= 3:\n",
    "        tmp[-1]['positions'] = v\n",
    "prompt += str(tmp)\n",
    "print(prompt)"
   ]
  },
  {
   "cell_type": "code",
   "execution_count": 11,
   "metadata": {},
   "outputs": [
    {
     "name": "stdout",
     "output_type": "stream",
     "text": [
      "PROMPT: \"Great Dane, [{'description': 'Dogs and guinea pig', 'positions': [], 'id': 125}, {'description': 'Dog heads', 'positions': [], 'id': 30}, {'description': 'Animal legs', 'positions': [], 'id': 214}, {'description': 'Animal heads', 'positions': [], 'id': 87}, {'description': 'Rounded edges in pictures', 'positions': [], 'id': 209}, {'description': 'Dog heads', 'positions': ['right', 'bottom'], 'id': 66}, {'description': 'Animal heads', 'positions': ['top', 'center'], 'id': 235}, {'description': 'Animal heads', 'positions': ['left', 'top', 'bottom'], 'id': 254}, {'description': 'Dog heads', 'positions': ['right', 'top'], 'id': 230}, {'description': 'Dog ears', 'positions': ['right', 'top', 'bottom'], 'id': 61}]\"\n"
     ]
    }
   ],
   "source": [
    "with open('/home/adamwsl/.gpt_api_token/token.txt', 'r') as f:\n",
    "    token = f.readline().strip()\n",
    "with open('prompts/system_prompt.txt', 'r') as f:\n",
    "    system_prompt = f.readline()\n",
    "with open('prompts/example_prompt_1.txt', 'r') as f:\n",
    "    example_prompt_1 = f.readline()\n",
    "with open('prompts/example_output_1.txt', 'r') as f:\n",
    "    example_output_1 = f.readline()\n",
    "full_prompt = 'PROMPT: \"' + prompt + '\"'\n",
    "print(full_prompt)"
   ]
  },
  {
   "cell_type": "code",
   "execution_count": 12,
   "metadata": {},
   "outputs": [
    {
     "name": "stdout",
     "output_type": "stream",
     "text": [
      "You are tasked with a problem of creating a deep convolutional network classification EXPLANATION. You will be given an python object in form of `chosen class, [{'neuron description' : *neuron description*, 'neuron positions' : *neuron positions*, neuron id' : *neuron id *}, {'neuron description' : *neuron description*, 'neuron positions' : *neuron positions*, 'neuron id' : *neuron id *}, …]` where `...` means that there might be numerous triplets more, and  which is a class that model has picked. I want you to do two things:\n",
      "1. create a grammatically correct sentence which will explain the model's decision.\n",
      "2. Decide which neuron descriptions do not fit with `chosen class` and do not include those neuron descriptions in the final explanation. What I mean by 'do not fit' is that they are completely unrelated with chosen class (like 'dentist' and 'animal heads'). Do include in final explanation neuron descriptions which aren't directly related to chosen class, but they may be indirectly correlated with the chosen class, especially in terms of SHAPE, COLOR, or TEXTURE resemblance (like 'fountain' and 'sea' because water connects the two, or 'cathedral' and 'flower' because they are similar in shape, or 'brick wall' and 'grid' because the texture is similar). You should also include neurons and their descriptions if they theoretically are not directly connected with the model's decision, but they can be somehow connected with the decision (for example: decision: 'living room', description: 'sun' might be ok to include because the room could be lit with artificial lighting, and the model could confuse it with the sun. Another example is decision: 'house', description: 'trees' because the house could be made of wood, which comes from trees). Answer only with the final explanation and do not generate any text unnecessary for fulfilling your task (just like in exemplary OUTPUT). If 'positions' field is empty, ignore it and do not mention positions in the output. \n",
      "Here is an example – after 'PROMPT:' is your input, and after 'OUTPUT:' is an exemplary explanation. Read the prompt after first example, and provide me with an output:\n",
      "PROMPT: “lakeside, [{'description': 'Nature', 'positions': ['left', 'right', 'bottom'], 'id': 99}, {'description': 'The sky', 'positions': [], 'id': 162}, {'description': 'Red and white colored objects', 'positions': ['left', 'right', 'bottom'], 'id': 250}, {'description': 'The ocean', 'positions': ['left', 'right', 'bottom'], 'id': 57}, {'description': 'Animal heads', 'positions': [], 'id': 164}, {'description': 'The color red', 'positions': ['left', 'right', 'bottom'], 'id': 220}, {'description': 'White backgrounds', 'positions': [], 'id': 158}, {'description': 'Grass', 'positions': [], 'id': 3}, {'description': 'Dogs and guinea pig', 'positions': [], 'id': 125}, {'description': 'The color green', 'positions': [], 'id': 83}]”\n",
      "OUTPUT: “The model's decision was 'lakeside' because in the last layer it discovered 'Nature' at the 'left', 'right' and 'bottom' of the image (neuron 99), 'The sky' (neuron 162), 'Red and white colored objects' at the 'left', 'right', and 'bottom' of the image (neuron 250), 'The ocean' at the 'left', 'right', and 'bottom' of the image (neuron 57), 'The color red' at the 'left', 'right', and 'bottom' of the image (neuron 220), 'White backgrounds' (neuron 158), 'Grass' (neuron 3) and 'The color green' (neuron 83).”\n",
      "PROMPT: \"Great Dane, [{'description': 'Dogs and guinea pig', 'positions': [], 'id': 125}, {'description': 'Dog heads', 'positions': [], 'id': 30}, {'description': 'Animal legs', 'positions': [], 'id': 214}, {'description': 'Animal heads', 'positions': [], 'id': 87}, {'description': 'Rounded edges in pictures', 'positions': [], 'id': 209}, {'description': 'Dog heads', 'positions': ['right', 'bottom'], 'id': 66}, {'description': 'Animal heads', 'positions': ['top', 'center'], 'id': 235}, {'description': 'Animal heads', 'positions': ['left', 'top', 'bottom'], 'id': 254}, {'description': 'Dog heads', 'positions': ['right', 'top'], 'id': 230}, {'description': 'Dog ears', 'positions': ['right', 'top', 'bottom'], 'id': 61}]\"\n"
     ]
    }
   ],
   "source": [
    "with open('prompts/full_prompt.txt', 'r') as f:\n",
    "    whole_prompt = f.readlines()\n",
    "whole_prompt = ''.join(whole_prompt)\n",
    "full_prompt = whole_prompt + 'PROMPT: \"' + prompt + '\"'\n",
    "print(full_prompt)"
   ]
  },
  {
   "cell_type": "code",
   "execution_count": 13,
   "metadata": {},
   "outputs": [],
   "source": [
    "API_KEY = token\n",
    "openai.api_key = API_KEY\n",
    "response = openai.ChatCompletion.create(\n",
    "  model=\"gpt-3.5-turbo\",\n",
    "  messages=[\n",
    "        {\"role\": \"user\", \"content\": full_prompt},\n",
    "    ]\n",
    ")"
   ]
  },
  {
   "cell_type": "code",
   "execution_count": 20,
   "metadata": {},
   "outputs": [
    {
     "ename": "KeyError",
     "evalue": "'message'",
     "output_type": "error",
     "traceback": [
      "\u001b[0;31m---------------------------------------------------------------------------\u001b[0m",
      "\u001b[0;31mKeyError\u001b[0m                                  Traceback (most recent call last)",
      "\u001b[1;32m/home/adamwsl/MALE/pipeline_lm_alexnet.ipynb Cell 15\u001b[0m in \u001b[0;36m1\n\u001b[0;32m----> <a href='vscode-notebook-cell://wsl%2Bubuntu/home/adamwsl/MALE/pipeline_lm_alexnet.ipynb#Y202sdnNjb2RlLXJlbW90ZQ%3D%3D?line=0'>1</a>\u001b[0m \u001b[39mprint\u001b[39m(response[\u001b[39m\"\u001b[39;49m\u001b[39mchoices\u001b[39;49m\u001b[39m\"\u001b[39;49m][\u001b[39m0\u001b[39;49m][\u001b[39m\"\u001b[39;49m\u001b[39mmessage\u001b[39;49m\u001b[39m\"\u001b[39;49m][\u001b[39m\"\u001b[39m\u001b[39mcontent\u001b[39m\u001b[39m\"\u001b[39m])\n",
      "\u001b[0;31mKeyError\u001b[0m: 'message'"
     ]
    }
   ],
   "source": [
    "print(response[\"choices\"][0][\"message\"][\"content\"])"
   ]
  },
  {
   "cell_type": "code",
   "execution_count": 16,
   "metadata": {},
   "outputs": [
    {
     "name": "stdout",
     "output_type": "stream",
     "text": [
      "[54, 187, 170, 166, 227, 242, 218, 9, 75, 119]\n"
     ]
    }
   ],
   "source": [
    "x = associate_channels(input_batch=input_batch, \n",
    "                       prev_layer=layer_map['conv4'], \n",
    "                       prev_out_channels=256,\n",
    "                       curr_layer=layer_map['conv5'], \n",
    "                       target_ch_id=232, \n",
    "                       model=model)\n",
    "print(tops := list(torch.argsort(x).numpy())[:10])"
   ]
  },
  {
   "cell_type": "code",
   "execution_count": 17,
   "metadata": {},
   "outputs": [
    {
     "name": "stdout",
     "output_type": "stream",
     "text": [
      "[54, 187, 170, 166, 227]\n"
     ]
    },
    {
     "data": {
      "text/html": [
       "<div>\n",
       "<style scoped>\n",
       "    .dataframe tbody tr th:only-of-type {\n",
       "        vertical-align: middle;\n",
       "    }\n",
       "\n",
       "    .dataframe tbody tr th {\n",
       "        vertical-align: top;\n",
       "    }\n",
       "\n",
       "    .dataframe thead th {\n",
       "        text-align: right;\n",
       "    }\n",
       "</style>\n",
       "<table border=\"1\" class=\"dataframe\">\n",
       "  <thead>\n",
       "    <tr style=\"text-align: right;\">\n",
       "      <th></th>\n",
       "      <th>unit</th>\n",
       "      <th>layer</th>\n",
       "      <th>description</th>\n",
       "    </tr>\n",
       "  </thead>\n",
       "  <tbody>\n",
       "    <tr>\n",
       "      <th>0</th>\n",
       "      <td>54</td>\n",
       "      <td>conv4</td>\n",
       "      <td>Vertical lines</td>\n",
       "    </tr>\n",
       "    <tr>\n",
       "      <th>1</th>\n",
       "      <td>187</td>\n",
       "      <td>conv4</td>\n",
       "      <td>Grids</td>\n",
       "    </tr>\n",
       "    <tr>\n",
       "      <th>2</th>\n",
       "      <td>170</td>\n",
       "      <td>conv4</td>\n",
       "      <td>Stripes</td>\n",
       "    </tr>\n",
       "    <tr>\n",
       "      <th>3</th>\n",
       "      <td>166</td>\n",
       "      <td>conv4</td>\n",
       "      <td>Red and white objects</td>\n",
       "    </tr>\n",
       "    <tr>\n",
       "      <th>4</th>\n",
       "      <td>227</td>\n",
       "      <td>conv4</td>\n",
       "      <td>White backgrounds</td>\n",
       "    </tr>\n",
       "  </tbody>\n",
       "</table>\n",
       "</div>"
      ],
      "text/plain": [
       "   unit  layer            description\n",
       "0    54  conv4         Vertical lines\n",
       "1   187  conv4                  Grids\n",
       "2   170  conv4                Stripes\n",
       "3   166  conv4  Red and white objects\n",
       "4   227  conv4      White backgrounds"
      ]
     },
     "execution_count": 17,
     "metadata": {},
     "output_type": "execute_result"
    }
   ],
   "source": [
    "query = descriptions[descriptions['layer'] == 'conv4']\n",
    "tops = list(torch.argsort(x).numpy())[:5]\n",
    "print(tops)\n",
    "query =  query[query['unit'].isin(tops)]\n",
    "query.set_index('unit', inplace=True)\n",
    "query = query.loc[tops]\n",
    "query.reset_index(inplace=True)\n",
    "query"
   ]
  },
  {
   "cell_type": "code",
   "execution_count": 18,
   "metadata": {},
   "outputs": [
    {
     "data": {
      "image/png": "[encoded data removed]",
      "text/plain": [
       "<Figure size 640x480 with 1 Axes>"
      ]
     },
     "metadata": {},
     "output_type": "display_data"
    },
    {
     "data": {
      "image/png": "[encoded data removed]",
      "text/plain": [
       "<Figure size 640x480 with 1 Axes>"
      ]
     },
     "metadata": {},
     "output_type": "display_data"
    }
   ],
   "source": [
    "y = list(x)\n",
    "y.sort(reverse=True)\n",
    "plt.ylim(min(y), max(y))\n",
    "plt.bar(range(len(y)), y)\n",
    "plt.show()\n",
    "plt.ylim(min(y), max(y))\n",
    "plt.bar(range(len(y[:5])), y[:5])\n",
    "plt.show()"
   ]
  }
 ],
 "metadata": {
  "kernelspec": {
   "display_name": "base",
   "language": "python",
   "name": "python3"
  },
  "language_info": {
   "codemirror_mode": {
    "name": "ipython",
    "version": 3
   },
   "file_extension": ".py",
   "mimetype": "text/x-python",
   "name": "python",
   "nbconvert_exporter": "python",
   "pygments_lexer": "ipython3",
   "version": "3.8.10"
  },
  "orig_nbformat": 4
 },
 "nbformat": 4,
 "nbformat_minor": 2
}
