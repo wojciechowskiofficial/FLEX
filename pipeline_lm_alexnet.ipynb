{
 "cells": [
  {
   "cell_type": "code",
   "execution_count": 1,
   "metadata": {},
   "outputs": [
    {
     "name": "stderr",
     "output_type": "stream",
     "text": [
      "/home/adamwsl/.local/lib/python3.8/site-packages/requests/__init__.py:89: RequestsDependencyWarning: urllib3 (1.25.9) or chardet (5.1.0) doesn't match a supported version!\n",
      "  warnings.warn(\"urllib3 ({}) or chardet ({}) doesn't match a supported \"\n"
     ]
    }
   ],
   "source": [
    "import torch\n",
    "from torchvision.models import alexnet\n",
    "from torchsummary import summary\n",
    "from utils import classify\n",
    "import numpy as np\n",
    "from matplotlib import pyplot as plt\n",
    "import os\n",
    "from male import get_important_neurons, get_positions, associate_channels"
   ]
  },
  {
   "cell_type": "code",
   "execution_count": 2,
   "metadata": {},
   "outputs": [],
   "source": [
    "%load_ext autoreload"
   ]
  },
  {
   "cell_type": "code",
   "execution_count": 3,
   "metadata": {},
   "outputs": [],
   "source": [
    "filename = 'lakeside.jpg'"
   ]
  },
  {
   "cell_type": "code",
   "execution_count": 4,
   "metadata": {},
   "outputs": [],
   "source": [
    "model = alexnet(pretrained=True)\n",
    "_ = model.eval()\n",
    "# summary(model, (3, 224, 224))"
   ]
  },
  {
   "cell_type": "code",
   "execution_count": 5,
   "metadata": {},
   "outputs": [],
   "source": [
    "%autoreload 2\n",
    "probabilities, top_probabilities, categories, input_batch, input_tensor = classify(filename, model)"
   ]
  },
  {
   "cell_type": "code",
   "execution_count": 6,
   "metadata": {},
   "outputs": [],
   "source": [
    "image_center_resized = input_tensor.numpy()\n",
    "image_center_resized = np.transpose(image_center_resized, (1, 2, 0))\n",
    "if not os.path.exists(os.path.join('images', 'clipped', filename)):\n",
    "    plt.imsave(os.path.join('images', 'clipped', filename), image_center_resized)"
   ]
  },
  {
   "cell_type": "code",
   "execution_count": 7,
   "metadata": {},
   "outputs": [],
   "source": [
    "import pandas as pd\n",
    "import os\n",
    "descriptions = pd.read_csv(os.path.join('milan_results', 'alexnet_imagenet.csv'))\n",
    "#layer_names = ['conv1'] + ['layer' + str(i) for i in range(1, 5, 1)]\n",
    "layer_names = ['conv5']\n",
    "layer_map = {'conv1' : model.features[0], \n",
    "             'conv2' : model.features[3], \n",
    "             'conv3' : model.features[6], \n",
    "             'conv4' : model.features[8], \n",
    "             'conv5' : model.features[10]}"
   ]
  },
  {
   "cell_type": "code",
   "execution_count": 8,
   "metadata": {},
   "outputs": [],
   "source": [
    "how_much_highest = 10"
   ]
  },
  {
   "cell_type": "code",
   "execution_count": 9,
   "metadata": {},
   "outputs": [
    {
     "name": "stderr",
     "output_type": "stream",
     "text": [
      "/home/adamwsl/.local/lib/python3.8/site-packages/captum/_utils/gradient.py:57: UserWarning: Input Tensor 0 did not already require gradients, required_grads has been set automatically.\n",
      "  warnings.warn(\n"
     ]
    }
   ],
   "source": [
    "per_layer_results, per_layer_activations = get_important_neurons(how_much_highest, \n",
    "                                                                 input_batch, \n",
    "                                                                 model, \n",
    "                                                                 layer_names, \n",
    "                                                                 layer_map, \n",
    "                                                                 descriptions, \n",
    "                                                                 probabilities)"
   ]
  },
  {
   "cell_type": "code",
   "execution_count": 18,
   "metadata": {},
   "outputs": [],
   "source": [
    "per_layer_positions = get_positions(per_layer_results, per_layer_activations)"
   ]
  },
  {
   "cell_type": "code",
   "execution_count": 21,
   "metadata": {},
   "outputs": [],
   "source": [
    "prompt = str(categories[0])"
   ]
  },
  {
   "cell_type": "code",
   "execution_count": 15,
   "metadata": {},
   "outputs": [
    {
     "name": "stdout",
     "output_type": "stream",
     "text": [
      "[71, 119, 253, 125, 201, 94, 226, 250, 0, 48]\n"
     ]
    }
   ],
   "source": [
    "x = associate_channels(input_batch=input_batch, \n",
    "                       prev_layer=layer_map['conv4'], \n",
    "                       prev_out_channels=256,\n",
    "                       curr_layer=layer_map['conv5'], \n",
    "                       target_ch_id=2, \n",
    "                       model=model)\n",
    "print(tops := list(torch.argsort(x).numpy())[:10])"
   ]
  },
  {
   "cell_type": "code",
   "execution_count": 16,
   "metadata": {},
   "outputs": [
    {
     "name": "stdout",
     "output_type": "stream",
     "text": [
      "[71, 119, 253, 125, 201]\n"
     ]
    },
    {
     "data": {
      "text/html": [
       "<div>\n",
       "<style scoped>\n",
       "    .dataframe tbody tr th:only-of-type {\n",
       "        vertical-align: middle;\n",
       "    }\n",
       "\n",
       "    .dataframe tbody tr th {\n",
       "        vertical-align: top;\n",
       "    }\n",
       "\n",
       "    .dataframe thead th {\n",
       "        text-align: right;\n",
       "    }\n",
       "</style>\n",
       "<table border=\"1\" class=\"dataframe\">\n",
       "  <thead>\n",
       "    <tr style=\"text-align: right;\">\n",
       "      <th></th>\n",
       "      <th>unit</th>\n",
       "      <th>layer</th>\n",
       "      <th>description</th>\n",
       "    </tr>\n",
       "  </thead>\n",
       "  <tbody>\n",
       "    <tr>\n",
       "      <th>0</th>\n",
       "      <td>71</td>\n",
       "      <td>conv4</td>\n",
       "      <td>Layered part of all objects</td>\n",
       "    </tr>\n",
       "    <tr>\n",
       "      <th>1</th>\n",
       "      <td>119</td>\n",
       "      <td>conv4</td>\n",
       "      <td>Text</td>\n",
       "    </tr>\n",
       "    <tr>\n",
       "      <th>2</th>\n",
       "      <td>253</td>\n",
       "      <td>conv4</td>\n",
       "      <td>Stripes</td>\n",
       "    </tr>\n",
       "    <tr>\n",
       "      <th>3</th>\n",
       "      <td>125</td>\n",
       "      <td>conv4</td>\n",
       "      <td>Dog heads</td>\n",
       "    </tr>\n",
       "    <tr>\n",
       "      <th>4</th>\n",
       "      <td>201</td>\n",
       "      <td>conv4</td>\n",
       "      <td>Flower petals and flowers</td>\n",
       "    </tr>\n",
       "  </tbody>\n",
       "</table>\n",
       "</div>"
      ],
      "text/plain": [
       "   unit  layer                  description\n",
       "0    71  conv4  Layered part of all objects\n",
       "1   119  conv4                         Text\n",
       "2   253  conv4                      Stripes\n",
       "3   125  conv4                    Dog heads\n",
       "4   201  conv4    Flower petals and flowers"
      ]
     },
     "execution_count": 16,
     "metadata": {},
     "output_type": "execute_result"
    }
   ],
   "source": [
    "query = descriptions[descriptions['layer'] == 'conv4']\n",
    "tops = list(torch.argsort(x).numpy())[:5]\n",
    "print(tops)\n",
    "query =  query[query['unit'].isin(tops)]\n",
    "query.set_index('unit', inplace=True)\n",
    "query = query.loc[tops]\n",
    "query.reset_index(inplace=True)\n",
    "query"
   ]
  },
  {
   "cell_type": "code",
   "execution_count": 17,
   "metadata": {},
   "outputs": [
    {
     "data": {
      "image/png": "[encoded data removed]",
      "text/plain": [
       "<Figure size 640x480 with 1 Axes>"
      ]
     },
     "metadata": {},
     "output_type": "display_data"
    },
    {
     "data": {
      "image/png": "[encoded data removed]",
      "text/plain": [
       "<Figure size 640x480 with 1 Axes>"
      ]
     },
     "metadata": {},
     "output_type": "display_data"
    }
   ],
   "source": [
    "y = list(x)\n",
    "y.sort(reverse=True)\n",
    "plt.ylim(min(y), max(y))\n",
    "plt.bar(range(len(y)), y)\n",
    "plt.show()\n",
    "plt.ylim(min(y), max(y))\n",
    "plt.bar(range(len(y[:5])), y[:5])\n",
    "plt.show()"
   ]
  }
 ],
 "metadata": {
  "kernelspec": {
   "display_name": "base",
   "language": "python",
   "name": "python3"
  },
  "language_info": {
   "codemirror_mode": {
    "name": "ipython",
    "version": 3
   },
   "file_extension": ".py",
   "mimetype": "text/x-python",
   "name": "python",
   "nbconvert_exporter": "python",
   "pygments_lexer": "ipython3",
   "version": "3.8.10"
  },
  "orig_nbformat": 4
 },
 "nbformat": 4,
 "nbformat_minor": 2
}
